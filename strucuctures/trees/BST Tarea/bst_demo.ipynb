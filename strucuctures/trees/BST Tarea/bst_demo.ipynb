{
 "cells": [
  {
   "cell_type": "markdown",
   "metadata": {},
   "source": [
    "### < Search Binary Tree - Delete() Implementation>\n",
    "---\n",
    "\n",
    "< Jonatan Aguilar >  \n",
    "< 20240565 >"
   ]
  },
  {
   "cell_type": "code",
   "execution_count": 131,
   "metadata": {},
   "outputs": [],
   "source": [
    "from bst import BinarySearchTree"
   ]
  },
  {
   "cell_type": "code",
   "execution_count": 132,
   "metadata": {},
   "outputs": [],
   "source": [
    "tree = BinarySearchTree()"
   ]
  },
  {
   "cell_type": "code",
   "execution_count": 133,
   "metadata": {},
   "outputs": [],
   "source": [
    "vals = [17514,9371,2316,16279,20068,18092,5341,17436,22272,1037,16594,7134,20462,6072,14331,19475,5113,19114,4296,22223,21489,8448,18186,7253,5190] # Agregar 25 valores aleatorios que permitan demostrar los 3 casos de delete\n",
    "#numeros de los cuerpos celestes descubiertos durante la mision IRAS; con mi favorita al frente: IRAS 17514.\n",
    "\n",
    "for val in vals:\n",
    "    tree.insert(val)"
   ]
  },
  {
   "cell_type": "code",
   "execution_count": 134,
   "metadata": {},
   "outputs": [
    {
     "name": "stdout",
     "output_type": "stream",
     "text": [
      "\n",
      "                                           _____________________17514______________________\n",
      "                                          /                                                \\\n",
      "       _________________________________9371_______                     _________________20068_________________\n",
      "      /                                            \\                   /                                       \\\n",
      "   _2316______________                         __16279_______        18092____________           ____________22272\n",
      "  /                   \\                       /              \\                        \\         /\n",
      "1037           _____5341______              14331        __17436                  __19475     20462_______\n",
      "              /               \\                         /                        /                        \\\n",
      "           _5113__         _7134______                16594                  __19114                  __22223\n",
      "          /       \\       /           \\                                     /                        /\n",
      "        4296    5190    6072       _8448                                  18186                    21489\n",
      "                                  /\n",
      "                                7253\n"
     ]
    }
   ],
   "source": [
    "tree.print_pretty()"
   ]
  },
  {
   "cell_type": "markdown",
   "metadata": {},
   "source": [
    "## Delete - caso no. 1\n",
    "\n",
    "En el caso no. 1 se busca eliminar un *leaf Node*, caracterizado por no tener ningun hijo (ambos *child* tienen *null* por valor). En este ejemplo se busca eliminar el nodo que almacena el dato (7253). En metodo recore el arbol, encuentra el nodo y sustituye su valor por *null* lo que lo elimina."
   ]
  },
  {
   "cell_type": "code",
   "execution_count": null,
   "metadata": {},
   "outputs": [
    {
     "name": "stdout",
     "output_type": "stream",
     "text": [
      "\n",
      "                                       _____________________17514______________________\n",
      "                                      /                                                \\\n",
      "       _____________________________9371_______                     _________________20068_________________\n",
      "      /                                        \\                   /                                       \\\n",
      "   _2316______________                     __16279_______        18092____________           ____________22272\n",
      "  /                   \\                   /              \\                        \\         /\n",
      "1037           _____5341______          14331        __17436                  __19475     20462_______\n",
      "              /               \\                     /                        /                        \\\n",
      "           _5113__         _7134__                16594                  __19114                  __22223\n",
      "          /       \\       /       \\                                     /                        /\n",
      "        4296    5190    6072    8448                                  18186                    21489\n"
     ]
    }
   ],
   "source": [
    "# TODO: demostrar que el método de delete() creado funciona para el caso #1\n",
    "tree.delete(7253)\n",
    "tree.print_pretty()"
   ]
  },
  {
   "cell_type": "markdown",
   "metadata": {},
   "source": [
    "## Delete - caso no. 2\n",
    "\n",
    "En el caso no. 2 se busca aliminar un nodo que posee un solo hijo con un valor valido, lo que implica que el otro hijo tiene un *null* almacenado. En este ejemplo se busca eliminar el nodo que almacena el dato (17436). El metodo recore el arbol, encuentra el nodo y sustituye su valor por *null* lo que lo elimina."
   ]
  },
  {
   "cell_type": "code",
   "execution_count": null,
   "metadata": {},
   "outputs": [
    {
     "name": "stdout",
     "output_type": "stream",
     "text": [
      "\n",
      "                                       ________________17514______________________\n",
      "                                      /                                           \\\n",
      "       _____________________________9371_______                _________________20068_________________\n",
      "      /                                        \\              /                                       \\\n",
      "   _2316______________                     __16279__        18092____________           ____________22272\n",
      "  /                   \\                   /         \\                        \\         /\n",
      "1037           _____5341______          14331     16594                  __19475     20462_______\n",
      "              /               \\                                         /                        \\\n",
      "           _5113__         _7134__                                  __19114                  __22223\n",
      "          /       \\       /       \\                                /                        /\n",
      "        4296    5190    6072    8448                             18186                    21489\n"
     ]
    }
   ],
   "source": [
    "# TODO: demostrar que el método de delete() creado funciona para el caso #2\n",
    "tree.delete(17436) \n",
    "tree.print_pretty()\n"
   ]
  },
  {
   "cell_type": "markdown",
   "metadata": {},
   "source": [
    "## Delete - caso no. 3\n",
    "\n",
    "En el caso no. 3 se busca eliminar un nodo cuyos ambos hijos poseen valores validos. Es esta implementación se usa el predecessor inorden; busca el valor mayor entre sus hijos, y sobre escribiendo los valores iterativamente hasta reorganizar el arbol. "
   ]
  },
  {
   "cell_type": "code",
   "execution_count": 137,
   "metadata": {},
   "outputs": [
    {
     "ename": "TypeError",
     "evalue": "'<' not supported between instances of 'Node' and 'int'",
     "output_type": "error",
     "traceback": [
      "\u001b[31m---------------------------------------------------------------------------\u001b[39m",
      "\u001b[31mTypeError\u001b[39m                                 Traceback (most recent call last)",
      "\u001b[36mCell\u001b[39m\u001b[36m \u001b[39m\u001b[32mIn[137]\u001b[39m\u001b[32m, line 2\u001b[39m\n\u001b[32m      1\u001b[39m \u001b[38;5;66;03m# TODO: demostrar que el método de delete() creado funciona para el caso #3\u001b[39;00m\n\u001b[32m----> \u001b[39m\u001b[32m2\u001b[39m \u001b[43mtree\u001b[49m\u001b[43m.\u001b[49m\u001b[43mdelete\u001b[49m\u001b[43m(\u001b[49m\u001b[32;43m17514\u001b[39;49m\u001b[43m)\u001b[49m\n\u001b[32m      3\u001b[39m tree.print_pretty()\n",
      "\u001b[36mFile \u001b[39m\u001b[32mc:\\Users\\ProBook\\_Repos\\Estructura-de-Datos\\strucuctures\\trees\\BST Tarea\\bst.py:156\u001b[39m, in \u001b[36mBinarySearchTree.delete\u001b[39m\u001b[34m(self, value)\u001b[39m\n\u001b[32m    153\u001b[39m \u001b[38;5;28;01mdef\u001b[39;00m\u001b[38;5;250m \u001b[39m\u001b[34mdelete\u001b[39m(\u001b[38;5;28mself\u001b[39m, value: \u001b[38;5;28mint\u001b[39m):\n\u001b[32m    154\u001b[39m     \u001b[38;5;66;03m#siguiendo el estilo (structura) de los métodos anteriores, primero se valida el arbol\u001b[39;00m\n\u001b[32m    155\u001b[39m     \u001b[38;5;28;01mif\u001b[39;00m \u001b[38;5;28mself\u001b[39m.root \u001b[38;5;129;01mis\u001b[39;00m \u001b[38;5;129;01mnot\u001b[39;00m \u001b[38;5;28;01mNone\u001b[39;00m:\n\u001b[32m--> \u001b[39m\u001b[32m156\u001b[39m         \u001b[38;5;28mself\u001b[39m.root = \u001b[38;5;28;43mself\u001b[39;49m\u001b[43m.\u001b[49m\u001b[43m_delete\u001b[49m\u001b[43m(\u001b[49m\u001b[43mvalue\u001b[49m\u001b[43m,\u001b[49m\u001b[43m \u001b[49m\u001b[38;5;28;43mself\u001b[39;49m\u001b[43m.\u001b[49m\u001b[43mroot\u001b[49m\u001b[43m)\u001b[49m\n\u001b[32m    157\u001b[39m     \u001b[38;5;28;01melse\u001b[39;00m:\n\u001b[32m    158\u001b[39m         \u001b[38;5;28mprint\u001b[39m(\u001b[33m'\u001b[39m\u001b[33mTree is empty...\u001b[39m\u001b[33m'\u001b[39m)\n",
      "\u001b[36mFile \u001b[39m\u001b[32mc:\\Users\\ProBook\\_Repos\\Estructura-de-Datos\\strucuctures\\trees\\BST Tarea\\bst.py:178\u001b[39m, in \u001b[36mBinarySearchTree._delete\u001b[39m\u001b[34m(self, value, subtree)\u001b[39m\n\u001b[32m    176\u001b[39m         max_value = \u001b[38;5;28mself\u001b[39m.find_max(subtree.left_child)  \u001b[38;5;66;03m# Esto es un int\u001b[39;00m\n\u001b[32m    177\u001b[39m         subtree.data = max_value  \u001b[38;5;66;03m# Copiamos el valor\u001b[39;00m\n\u001b[32m--> \u001b[39m\u001b[32m178\u001b[39m         subtree.left_child = \u001b[38;5;28;43mself\u001b[39;49m\u001b[43m.\u001b[49m\u001b[43m_delete\u001b[49m\u001b[43m(\u001b[49m\u001b[43mmax_value\u001b[49m\u001b[43m,\u001b[49m\u001b[43m \u001b[49m\u001b[43msubtree\u001b[49m\u001b[43m.\u001b[49m\u001b[43mleft_child\u001b[49m\u001b[43m)\u001b[49m  \u001b[38;5;66;03m# Eliminamos el nodo original\u001b[39;00m\n\u001b[32m    179\u001b[39m \u001b[38;5;28;01mreturn\u001b[39;00m subtree\n",
      "\u001b[36mFile \u001b[39m\u001b[32mc:\\Users\\ProBook\\_Repos\\Estructura-de-Datos\\strucuctures\\trees\\BST Tarea\\bst.py:165\u001b[39m, in \u001b[36mBinarySearchTree._delete\u001b[39m\u001b[34m(self, value, subtree)\u001b[39m\n\u001b[32m    162\u001b[39m \u001b[38;5;28;01mif\u001b[39;00m subtree \u001b[38;5;129;01mis\u001b[39;00m \u001b[38;5;28;01mNone\u001b[39;00m:\n\u001b[32m    163\u001b[39m     \u001b[38;5;28;01mreturn\u001b[39;00m \u001b[38;5;28;01mNone\u001b[39;00m\n\u001b[32m--> \u001b[39m\u001b[32m165\u001b[39m \u001b[38;5;28;01mif\u001b[39;00m \u001b[43mvalue\u001b[49m\u001b[43m \u001b[49m\u001b[43m<\u001b[49m\u001b[43m \u001b[49m\u001b[43msubtree\u001b[49m\u001b[43m.\u001b[49m\u001b[43mdata\u001b[49m:\n\u001b[32m    166\u001b[39m     subtree.left_child = \u001b[38;5;28mself\u001b[39m._delete(value, subtree.left_child)\n\u001b[32m    167\u001b[39m \u001b[38;5;28;01melif\u001b[39;00m value > subtree.data:\n",
      "\u001b[31mTypeError\u001b[39m: '<' not supported between instances of 'Node' and 'int'"
     ]
    }
   ],
   "source": [
    "# TODO: demostrar que el método de delete() creado funciona para el caso #3\n",
    "tree.delete(17514)\n",
    "tree.print_pretty()\n"
   ]
  },
  {
   "cell_type": "markdown",
   "metadata": {},
   "source": [
    "---"
   ]
  }
 ],
 "metadata": {
  "kernelspec": {
   "display_name": "Python 3",
   "language": "python",
   "name": "python3"
  },
  "language_info": {
   "codemirror_mode": {
    "name": "ipython",
    "version": 3
   },
   "file_extension": ".py",
   "mimetype": "text/x-python",
   "name": "python",
   "nbconvert_exporter": "python",
   "pygments_lexer": "ipython3",
   "version": "3.13.1"
  }
 },
 "nbformat": 4,
 "nbformat_minor": 2
}
